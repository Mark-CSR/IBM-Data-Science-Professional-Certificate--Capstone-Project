{
 "cells": [
  {
   "cell_type": "code",
   "execution_count": 1,
   "id": "0c2e0740-31f0-446d-b91a-22796d9f1ac6",
   "metadata": {},
   "outputs": [],
   "source": [
    "# Build a Dashboard Application with Plotly Dash\n",
    "# In this lab, you will be building a Plotly Dash application for users to perform interactive visual analytics on SpaceX launch data in real-time.\n",
    "# This dashboard application contains input components such as a dropdown list and a range slider to interact with a pie chart and a scatter point chart.\n",
    "# You will be guided to build this dashboard application via the following tasks:\n",
    "# TASK 1: Add a Launch Site Drop-down Input Component\n",
    "# TASK 2: Add a callback function to render success-pie-chart based on selected site dropdown\n",
    "# TASK 3: Add a Range Slider to Select Payload\n",
    "# TASK 4: Add a callback function to render the success-payload-scatter-chart scatter plot\n",
    "# Note: Please take screenshots of the Dashboard and save them.\n",
    "# Further upload your notebook to github. The github URL and the screenshots are later required in the presentation slides.\n"
   ]
  },
  {
   "cell_type": "code",
   "execution_count": 2,
   "id": "c4aeb04c-f6c9-4e67-9c51-cb49d358635e",
   "metadata": {
    "tags": []
   },
   "outputs": [],
   "source": [
    "# Import required libraries\n",
    "import requests\n",
    "import pandas as pd\n",
    "import dash\n",
    "from dash import dcc\n",
    "from dash import html\n",
    "from dash.dependencies import Input, Output\n",
    "import plotly.express as px\n",
    "import webbrowser\n",
    "import numpy as np\n",
    "\n",
    "\n"
   ]
  },
  {
   "cell_type": "code",
   "execution_count": 3,
   "id": "b03af47f-7d73-4925-9ecf-cb0753a697a2",
   "metadata": {
    "tags": []
   },
   "outputs": [
    {
     "data": {
      "text/html": [
       "<div>\n",
       "<style scoped>\n",
       "    .dataframe tbody tr th:only-of-type {\n",
       "        vertical-align: middle;\n",
       "    }\n",
       "\n",
       "    .dataframe tbody tr th {\n",
       "        vertical-align: top;\n",
       "    }\n",
       "\n",
       "    .dataframe thead th {\n",
       "        text-align: right;\n",
       "    }\n",
       "</style>\n",
       "<table border=\"1\" class=\"dataframe\">\n",
       "  <thead>\n",
       "    <tr style=\"text-align: right;\">\n",
       "      <th></th>\n",
       "      <th>Unnamed: 0</th>\n",
       "      <th>Flight Number</th>\n",
       "      <th>Launch Site</th>\n",
       "      <th>class</th>\n",
       "      <th>Payload Mass (kg)</th>\n",
       "      <th>Booster Version</th>\n",
       "      <th>Booster Version Category</th>\n",
       "    </tr>\n",
       "  </thead>\n",
       "  <tbody>\n",
       "    <tr>\n",
       "      <th>0</th>\n",
       "      <td>0</td>\n",
       "      <td>1</td>\n",
       "      <td>CCAFS LC-40</td>\n",
       "      <td>0</td>\n",
       "      <td>0.0</td>\n",
       "      <td>F9 v1.0  B0003</td>\n",
       "      <td>v1.0</td>\n",
       "    </tr>\n",
       "    <tr>\n",
       "      <th>1</th>\n",
       "      <td>1</td>\n",
       "      <td>2</td>\n",
       "      <td>CCAFS LC-40</td>\n",
       "      <td>0</td>\n",
       "      <td>0.0</td>\n",
       "      <td>F9 v1.0  B0004</td>\n",
       "      <td>v1.0</td>\n",
       "    </tr>\n",
       "    <tr>\n",
       "      <th>2</th>\n",
       "      <td>2</td>\n",
       "      <td>3</td>\n",
       "      <td>CCAFS LC-40</td>\n",
       "      <td>0</td>\n",
       "      <td>525.0</td>\n",
       "      <td>F9 v1.0  B0005</td>\n",
       "      <td>v1.0</td>\n",
       "    </tr>\n",
       "    <tr>\n",
       "      <th>3</th>\n",
       "      <td>3</td>\n",
       "      <td>4</td>\n",
       "      <td>CCAFS LC-40</td>\n",
       "      <td>0</td>\n",
       "      <td>500.0</td>\n",
       "      <td>F9 v1.0  B0006</td>\n",
       "      <td>v1.0</td>\n",
       "    </tr>\n",
       "    <tr>\n",
       "      <th>4</th>\n",
       "      <td>4</td>\n",
       "      <td>5</td>\n",
       "      <td>CCAFS LC-40</td>\n",
       "      <td>0</td>\n",
       "      <td>677.0</td>\n",
       "      <td>F9 v1.0  B0007</td>\n",
       "      <td>v1.0</td>\n",
       "    </tr>\n",
       "  </tbody>\n",
       "</table>\n",
       "</div>"
      ],
      "text/plain": [
       "   Unnamed: 0  Flight Number  Launch Site  class  Payload Mass (kg)  \\\n",
       "0           0              1  CCAFS LC-40      0                0.0   \n",
       "1           1              2  CCAFS LC-40      0                0.0   \n",
       "2           2              3  CCAFS LC-40      0              525.0   \n",
       "3           3              4  CCAFS LC-40      0              500.0   \n",
       "4           4              5  CCAFS LC-40      0              677.0   \n",
       "\n",
       "  Booster Version Booster Version Category  \n",
       "0  F9 v1.0  B0003                     v1.0  \n",
       "1  F9 v1.0  B0004                     v1.0  \n",
       "2  F9 v1.0  B0005                     v1.0  \n",
       "3  F9 v1.0  B0006                     v1.0  \n",
       "4  F9 v1.0  B0007                     v1.0  "
      ]
     },
     "execution_count": 3,
     "metadata": {},
     "output_type": "execute_result"
    }
   ],
   "source": [
    "url = \"https://cf-courses-data.s3.us.cloud-object-storage.appdomain.cloud/IBM-DS0321EN-SkillsNetwork/datasets/spacex_launch_dash.csv\"\n",
    "\n",
    "spacex_df = pd.read_csv(url)\n",
    "max_payload = spacex_df['Payload Mass (kg)'].max()\n",
    "min_payload = spacex_df['Payload Mass (kg)'].min()\n",
    "\n",
    "spacex_df.head()\n"
   ]
  },
  {
   "cell_type": "code",
   "execution_count": 4,
   "id": "3b53c991-1135-44a4-8b3d-b25e4df66a34",
   "metadata": {
    "tags": []
   },
   "outputs": [],
   "source": [
    "# Create a dash application\n",
    "app = dash.Dash(__name__)"
   ]
  },
  {
   "cell_type": "code",
   "execution_count": 5,
   "id": "ef7adcbe-3031-47e1-bf29-276ac5d3120f",
   "metadata": {
    "tags": []
   },
   "outputs": [],
   "source": [
    "# Create an app layout\n",
    "app.layout = html.Div(children=[\n",
    "    html.H1('SpaceX Launch Records Dashboard',\n",
    "            style={'textAlign': 'center', 'color': '#503D36', 'font-size': 40}),\n",
    "\n",
    "    # TASK 1: Add a dropdown list to enable Launch Site selection\n",
    "    # The default select value is for ALL sites\n",
    "    dcc.Dropdown(id='site-dropdown',\n",
    "                 options=[\n",
    "                     {'label': 'All Sites', 'value': 'ALL'},\n",
    "                     {'label': 'CCAFS LC-40', 'value': 'CCAFS LC-40'},\n",
    "                     {'label': 'CCAFS SLC-40', 'value': 'CCAFS SLC-40'},\n",
    "                     {'label': 'KSC LC-39A', 'value': 'KSC LC-39A'},\n",
    "                     {'label': 'VAFB SLC-4E', 'value': 'VAFB SLC-4E'}\n",
    "                 ],\n",
    "                 value='ALL',\n",
    "                 placeholder=\"Select a Launch Site here\",\n",
    "                 searchable=True\n",
    "                 ),\n",
    "    html.Br(),\n",
    "\n",
    "    # TASK 2: Add a pie chart to show the total successful launches count for all sites\n",
    "    # If a specific launch site was selected, show the Success vs. Failed counts for the site\n",
    "    html.Div(dcc.Graph(id='success-pie-chart')),\n",
    "    html.Br(),\n",
    "\n",
    "    html.P(\"Payload range (Kg):\"),\n",
    "\n",
    "\n",
    "    # TASK 3: Add a slider to select payload range\n",
    "    dcc.RangeSlider(id='payload-slider',\n",
    "                    min=min_payload,\n",
    "                    max=max_payload,\n",
    "                    step=1000,  # You may adjust the step as necessary\n",
    "                    marks={i: f'{int(i)} Kg' for i in np.linspace(min_payload, max_payload, num=6)},  # Generates 6 evenly spaced marks\n",
    "                    value=[min_payload, max_payload]),  # Default range set to min and max of payload\n",
    "    \n",
    "    \n",
    "    # TASK 4: Add a scatter chart to show the correlation between payload and launch success\n",
    "    html.Div(dcc.Graph(id='success-payload-scatter-chart')),\n",
    "])\n",
    "\n",
    "\n"
   ]
  },
  {
   "cell_type": "code",
   "execution_count": 6,
   "id": "cd81dafd-d9a3-4b85-85e8-010994a53cfd",
   "metadata": {},
   "outputs": [],
   "source": [
    "# TASK 2:\n",
    "# Add a callback function for `site-dropdown` as input, `success-pie-chart` as output\n",
    "\n",
    "@app.callback(\n",
    "    Output('success-pie-chart', 'figure'),\n",
    "    Input('site-dropdown', 'value')\n",
    ")\n",
    "def update_pie_chart(selected_site):\n",
    "    if selected_site == 'ALL':\n",
    "        # Summarize the count of successful launches for all sites\n",
    "        filtered_df = spacex_df.groupby('Launch Site')['class'].sum().reset_index()\n",
    "        fig = px.pie(filtered_df, values='class', names='Launch Site', title='Total Successful Launches by Site')\n",
    "    else:\n",
    "        # Display success vs. failed counts for the selected site\n",
    "        filtered_df = spacex_df[spacex_df['Launch Site'] == selected_site]\n",
    "        success_fail = filtered_df['class'].value_counts().reset_index()\n",
    "        success_fail.columns = ['Outcome', 'Count']\n",
    "        success_fail['Outcome'] = success_fail['Outcome'].replace({1: 'Success', 0: 'Fail'})\n",
    "        fig = px.pie(success_fail, values='Count', names='Outcome', title=f'Success vs. Fail at {selected_site}')\n",
    "\n",
    "    return fig\n",
    "\n",
    "\n"
   ]
  },
  {
   "cell_type": "code",
   "execution_count": 7,
   "id": "81b84280-60db-45a3-9d13-e79d3dd72a8b",
   "metadata": {},
   "outputs": [],
   "source": [
    "# TASK 4:\n",
    "# Add a callback function for `site-dropdown` and `payload-slider` as inputs, `success-payload-scatter-chart` as output\n",
    "\n",
    "@app.callback(\n",
    "    Output('success-payload-scatter-chart', 'figure'),\n",
    "    [Input('site-dropdown', 'value'),\n",
    "     Input('payload-slider', 'value')]\n",
    ")\n",
    "def update_scatter_chart(selected_site, payload_range):\n",
    "    # Filter the DataFrame based on the selected site if it is not 'ALL'\n",
    "    if selected_site != 'ALL':\n",
    "        filtered_df = spacex_df[spacex_df['Launch Site'] == selected_site]\n",
    "    else:\n",
    "        filtered_df = spacex_df\n",
    "\n",
    "    # Further filter the DataFrame based on the selected payload range\n",
    "    mask = (filtered_df['Payload Mass (kg)'] >= payload_range[0]) & \\\n",
    "           (filtered_df['Payload Mass (kg)'] <= payload_range[1])\n",
    "    filtered_df = filtered_df[mask]\n",
    "\n",
    "    # Create a scatter plot to show the correlation between payload and launch success\n",
    "    fig = px.scatter(filtered_df, x='Payload Mass (kg)', y='class',\n",
    "                     color='Booster Version Category',\n",
    "                     title='Correlation between Payload and Success for ' + selected_site + ' Landing Sites',\n",
    "                     labels={'class': 'Launch Success'})\n",
    "    return fig\n",
    "\n",
    "\n"
   ]
  },
  {
   "cell_type": "code",
   "execution_count": 8,
   "id": "d533f700-93a1-4dd8-a653-8f125598d199",
   "metadata": {
    "tags": []
   },
   "outputs": [],
   "source": [
    "# # Run the app\n",
    "   \n",
    "# if __name__ == '__main__':\n",
    "#     app.run_server(port=8080)  # Change 8080 to another number if this port is also in use"
   ]
  },
  {
   "cell_type": "code",
   "execution_count": 9,
   "id": "be483ce5-7c92-4141-8b44-2eca7053f0f4",
   "metadata": {},
   "outputs": [
    {
     "data": {
      "text/html": [
       "\n",
       "        <iframe\n",
       "            width=\"100%\"\n",
       "            height=\"650\"\n",
       "            src=\"http://127.0.0.1:5050/\"\n",
       "            frameborder=\"0\"\n",
       "            allowfullscreen\n",
       "            \n",
       "        ></iframe>\n",
       "        "
      ],
      "text/plain": [
       "<IPython.lib.display.IFrame at 0x25e48c15790>"
      ]
     },
     "metadata": {},
     "output_type": "display_data"
    }
   ],
   "source": [
    "#Run the app\n",
    "def open_browser():\n",
    "    webbrowser.open('http://localhost:5050')\n",
    "\n",
    "if __name__ == '__main__':\n",
    "    # Open the web browser before running the app\n",
    "    open_browser()\n",
    "    # Run the app on a different port, e.g., 5050\n",
    "    app.run_server(port=5050)\n",
    "    \n",
    "    \n",
    "    "
   ]
  },
  {
   "cell_type": "code",
   "execution_count": null,
   "id": "6485c26a-e6c9-4e80-8277-428e8c8d6f05",
   "metadata": {},
   "outputs": [],
   "source": []
  }
 ],
 "metadata": {
  "kernelspec": {
   "display_name": "Python 3 (ipykernel)",
   "language": "python",
   "name": "python3"
  },
  "language_info": {
   "codemirror_mode": {
    "name": "ipython",
    "version": 3
   },
   "file_extension": ".py",
   "mimetype": "text/x-python",
   "name": "python",
   "nbconvert_exporter": "python",
   "pygments_lexer": "ipython3",
   "version": "3.9.17"
  }
 },
 "nbformat": 4,
 "nbformat_minor": 5
}
